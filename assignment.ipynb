{
  "nbformat": 4,
  "nbformat_minor": 0,
  "metadata": {
    "colab": {
      "name": "assignment.ipynb",
      "provenance": [],
      "collapsed_sections": [],
      "include_colab_link": true
    },
    "kernelspec": {
      "display_name": "Python 3",
      "language": "python",
      "name": "python3"
    },
    "language_info": {
      "codemirror_mode": {
        "name": "ipython",
        "version": 3
      },
      "file_extension": ".py",
      "mimetype": "text/x-python",
      "name": "python",
      "nbconvert_exporter": "python",
      "pygments_lexer": "ipython3",
      "version": "3.7.4"
    }
  },
  "cells": [
    {
      "cell_type": "markdown",
      "metadata": {
        "id": "view-in-github",
        "colab_type": "text"
      },
      "source": [
        "<a href=\"https://colab.research.google.com/github/i-moes/TM10007_PROJECT/blob/master/assignment.ipynb\" target=\"_parent\"><img src=\"https://colab.research.google.com/assets/colab-badge.svg\" alt=\"Open In Colab\"/></a>"
      ]
    },
    {
      "cell_type": "markdown",
      "metadata": {
        "colab_type": "text",
        "id": "7SXpaKwwGe5x"
      },
      "source": [
        "# TM10007 Assignment Group 7\n",
        "\n",
        "---\n",
        "\n"
      ]
    },
    {
      "cell_type": "code",
      "metadata": {
        "colab_type": "code",
        "id": "CiDn2Sk-VWqE",
        "outputId": "ee3d1287-0229-48cb-cf65-d4f605b5bf89",
        "colab": {
          "base_uri": "https://localhost:8080/",
          "height": 238
        }
      },
      "source": [
        "# Run this to use from colab environment\n",
        "!pip install -q --upgrade git+https://github.com/i-moes/TM10007_PROJECT.git\n",
        "\n",
        "# Install packages\n",
        "!pip install sklearn numpy matplotlib"
      ],
      "execution_count": 1,
      "outputs": [
        {
          "output_type": "stream",
          "text": [
            "  Building wheel for brats (setup.py) ... \u001b[?25l\u001b[?25hdone\n",
            "Requirement already satisfied: sklearn in /usr/local/lib/python3.6/dist-packages (0.0)\n",
            "Requirement already satisfied: numpy in /usr/local/lib/python3.6/dist-packages (1.18.2)\n",
            "Requirement already satisfied: matplotlib in /usr/local/lib/python3.6/dist-packages (3.2.1)\n",
            "Requirement already satisfied: scikit-learn in /usr/local/lib/python3.6/dist-packages (from sklearn) (0.22.2.post1)\n",
            "Requirement already satisfied: pyparsing!=2.0.4,!=2.1.2,!=2.1.6,>=2.0.1 in /usr/local/lib/python3.6/dist-packages (from matplotlib) (2.4.6)\n",
            "Requirement already satisfied: cycler>=0.10 in /usr/local/lib/python3.6/dist-packages (from matplotlib) (0.10.0)\n",
            "Requirement already satisfied: python-dateutil>=2.1 in /usr/local/lib/python3.6/dist-packages (from matplotlib) (2.8.1)\n",
            "Requirement already satisfied: kiwisolver>=1.0.1 in /usr/local/lib/python3.6/dist-packages (from matplotlib) (1.1.0)\n",
            "Requirement already satisfied: joblib>=0.11 in /usr/local/lib/python3.6/dist-packages (from scikit-learn->sklearn) (0.14.1)\n",
            "Requirement already satisfied: scipy>=0.17.0 in /usr/local/lib/python3.6/dist-packages (from scikit-learn->sklearn) (1.4.1)\n",
            "Requirement already satisfied: six in /usr/local/lib/python3.6/dist-packages (from cycler>=0.10->matplotlib) (1.12.0)\n",
            "Requirement already satisfied: setuptools in /usr/local/lib/python3.6/dist-packages (from kiwisolver>=1.0.1->matplotlib) (46.0.0)\n"
          ],
          "name": "stdout"
        }
      ]
    },
    {
      "cell_type": "code",
      "metadata": {
        "id": "qUekQv8AUkCT",
        "colab_type": "code",
        "colab": {}
      },
      "source": [
        "# # General packages\n",
        "import numpy as np \n",
        "import pandas as pd\n",
        "import seaborn as sns\n",
        "import matplotlib.pyplot as plt\n",
        "import sklearn\n",
        "from sklearn import datasets as ds\n",
        "from sklearn import metrics\n",
        "from sklearn.model_selection import train_test_split\n",
        "from sklearn.impute import KNNImputer\n",
        " \n",
        "from sklearn.model_selection import KFold\n",
        "from sklearn.model_selection import cross_val_score\n",
        "from sklearn.pipeline import Pipeline\n",
        "\n",
        "# Metrics\n",
        "#from sklearn.metrics import confusion_matrix\n",
        "#from sklearn.metrics import mean_absolute_error\n",
        "# from sklearn.metrics import r2_score\n",
        "\n",
        "# Classifiers\n",
        "from sklearn.naive_bayes import GaussianNB\n",
        "from sklearn.discriminant_analysis import LinearDiscriminantAnalysis\n",
        "from sklearn.discriminant_analysis import QuadraticDiscriminantAnalysis\n",
        "from sklearn.linear_model import LogisticRegression\n",
        "from sklearn.linear_model import SGDClassifier\n",
        "from sklearn.tree import DecisionTreeClassifier\n",
        "from sklearn.neighbors import KNeighborsClassifier\n",
        "\n",
        "pd.options.mode.chained_assignment = None  # default='warn'\n",
        "\n",
        "import sys\n",
        "import os\n",
        "import pandas as pd\n",
        "from sklearn.decomposition import PCA\n",
        "\n"
      ],
      "execution_count": 0,
      "outputs": []
    },
    {
      "cell_type": "markdown",
      "metadata": {
        "id": "gwgU58C8aSwX",
        "colab_type": "text"
      },
      "source": [
        "## Section 0: Functions"
      ]
    },
    {
      "cell_type": "code",
      "metadata": {
        "id": "PRgYiYNlaVaL",
        "colab_type": "code",
        "colab": {}
      },
      "source": [
        "\n",
        "\n",
        "def preprocessing(data):\n",
        "  '''\n",
        "  '''\n",
        "\n",
        "  # Extract labels from dataframe\n",
        "  labels = data['label']\n",
        "  # Drop column containing patient labels for imputation\n",
        "  data = data.drop(columns=['label'])\n",
        "\n",
        "  ## Cleaning data from NaN, zero, #DIC/0! errors and inf values\n",
        "  # Replace all zero values with NaN\n",
        "  data.replace(0, np.nan, inplace=True)\n",
        "  # Replace all zero division errors with NaN\n",
        "  data.replace('#DIV/0!', np.nan, inplace=True)\n",
        "  # Replace all inf values with NaN\n",
        "  data.replace(np.inf, np.nan, inplace=True)\n",
        "  # Remove column when >5% of values is NaN\n",
        "  data.dropna(axis = 1, thresh=0.95*len(data.index), inplace=True)\n",
        "  \n",
        "  return data, labels\n",
        "\n",
        "\n",
        "def splitting_train_test(data, labels, size_test):\n",
        "    '''\n",
        "    Splitting the data and corresponding labels into a train and test set.\n",
        "    The test data should contain 45% of the data.\n",
        "\n",
        "    Parameters\n",
        "    ----------\n",
        "\n",
        "    data : dataframe, shape (n_samples, n_features)\n",
        "        Data, where n_samples is the number of samples\n",
        "        and n_features is the number of features.\n",
        "\n",
        "    labels : series, shape = (n_samples, 2)\n",
        "        True binary labels\n",
        "\n",
        "    size_test : array, shape = [size_test]\n",
        "        Required part of data to be used for testing (0-1)\n",
        "\n",
        "    Returns\n",
        "    -------\n",
        "\n",
        "    x_train : array-like, shape (n_samples, n_features)\n",
        "        Training data, where n_samples is the number of samples\n",
        "        and n_features is the number of features.\n",
        "\n",
        "    x_test : array-like, shape (n_samples, n_features)\n",
        "        Testing data, where n_samples is the number of samples\n",
        "        and n_features is the number of features.\n",
        "\n",
        "    y_train : array, shape = [n_samples]\n",
        "        True binary labels of train set\n",
        "\n",
        "    y_test : array, shape = [n_samples]\n",
        "        True binary labels of test set\n",
        "    '''\n",
        "\n",
        "    try:\n",
        "        x_train, x_test, y_train, y_test = train_test_split(data, labels, test_size=size_test)\n",
        "    except ValueError:\n",
        "        print('Not enough subjects to split into train and test set.')\n",
        "        sys.exit()\n",
        "\n",
        "    # Convert labels of train and test set to array\n",
        "    y_train = np.asarray(y_train)\n",
        "    y_test = np.asarray(y_test)\n",
        "\n",
        "    return x_train, x_test, y_train, y_test\n",
        "\n",
        "\n",
        "def train_pca(x_train, x_test, components=4):\n",
        "    '''\n",
        "    The  Principal component analysis (PCA) training function creates\n",
        "    and fits the PCA to transform point data into\n",
        "    based on an amount of prinicipal components.\n",
        "    Returns the transformed point data.\n",
        "\n",
        "    Parameters\n",
        "    ----------\n",
        "\n",
        "    x_train : array-like, shape (n_samples, n_features)\n",
        "        Training data, where n_samples is the number of samples\n",
        "        and n_features is the number of features.\n",
        "\n",
        "    x_test : array-like, shape (n_samples, n_features)\n",
        "        Testing data, where n_samples is the number of samples\n",
        "        and n_features is the number of features.\n",
        "\n",
        "    components : integer\n",
        "        Amount of used principal components.\n",
        "        Default value is 4 principal components\n",
        "\n",
        "    Returns\n",
        "    -------\n",
        "\n",
        "    x_train_trans : array-like, shape (n_samples, n_features)\n",
        "        Transformed training data, where n_samples is the number of samples\n",
        "        and n_features is the number of features.\n",
        "\n",
        "    x_test_trans : array-like, shape (n_samples, n_features)\n",
        "        Transformed test data, where n_samples is the number of samples\n",
        "        and n_features is the number of features.\n",
        "    '''\n",
        "\n",
        "    try:\n",
        "        # Create a PCA which retains an amount of principle components\n",
        "        pca = PCA(n_components=components)\n",
        "\n",
        "        # Fit the PCA model\n",
        "        pca.fit(x_train)\n",
        "\n",
        "        # Transform data\n",
        "        x_train_trans = pca.transform(x_train)\n",
        "        x_test_trans = pca.transform(x_test)\n",
        "\n",
        "        return x_train_trans, x_test_trans\n",
        "    \n",
        "    except ValueError:\n",
        "        print('Not enough subjects per set to fit the requested amount of components in PCA.')\n",
        "        sys.exit()\n",
        "  \n",
        "\n",
        "def pca4_plot(data, labels):\n",
        "    '''\n",
        "    Function to pairplot the results of the principal components analysis by creating\n",
        "    a dataframe of the the data and labels. \n",
        "\n",
        "    Parameters\n",
        "    ----------\n",
        "    data : array-like, shape (n_samples, n_features)\n",
        "        Training data, where n_samples is the number of samples\n",
        "        and n_features is the number of features.\n",
        "\n",
        "    labels : array, shape = [n_samples]\n",
        "        Corresponding labels for data\n",
        "    '''\n",
        "\n",
        "    dataframe = pd.DataFrame(data)\n",
        "    dataframe['label'] = labels\n",
        "\n",
        "    print(dataframe.head())\n",
        "\n",
        "    # Plotting the pairplot\n",
        "    pair_plot = sns.pairplot(dataframe, hue='label')\n",
        "\n"
      ],
      "execution_count": 0,
      "outputs": []
    },
    {
      "cell_type": "markdown",
      "metadata": {
        "id": "FXmtU-niSdDM",
        "colab_type": "text"
      },
      "source": [
        "## Section 1: Data loading\n",
        "\n",
        "In this section the data is loaded, splitted and preprocessed.\n",
        "\n",
        "The data is splitted into a train and test set. This is done using train_test_split from sklearn.model_selection. The test data contains 45% of the data. "
      ]
    },
    {
      "cell_type": "code",
      "metadata": {
        "colab_type": "code",
        "id": "-NE_fTbKGe5z",
        "outputId": "2b4e4bd3-a518-46d5-f084-b0bc42e55151",
        "colab": {
          "base_uri": "https://localhost:8080/",
          "height": 306
        }
      },
      "source": [
        "## Load Data\n",
        "\n",
        "from brats.load_data import load_data\n",
        "data = load_data()\n",
        "print(f'The number of samples: {len(data.index)}')\n",
        "print(f'The number of columns: {len(data.columns)}')\n",
        "\n",
        "print(data)\n"
      ],
      "execution_count": 27,
      "outputs": [
        {
          "output_type": "stream",
          "text": [
            "The number of samples: 167\n",
            "The number of columns: 725\n",
            "              VOLUME_ET  VOLUME_NET  VOLUME_ED  ...  TGM_Cog_Z_6  TGM_T_6  label\n",
            "ID                                              ...                             \n",
            "TCGA-02-0006       1662         384      36268  ...          NaN      NaN    GBM\n",
            "TCGA-02-0009       4362        4349      15723  ...          NaN      NaN    GBM\n",
            "TCGA-02-0011      33404       48612      45798  ...          NaN      NaN    GBM\n",
            "TCGA-02-0027      12114        7587      34086  ...          NaN      NaN    GBM\n",
            "TCGA-02-0033      34538        7137      65653  ...          NaN      NaN    GBM\n",
            "...                 ...         ...        ...  ...          ...      ...    ...\n",
            "TCGA-HT-8018       2093        8685      39142  ...          NaN      NaN    LGG\n",
            "TCGA-HT-8111       1929         437      54079  ...          NaN      NaN    LGG\n",
            "TCGA-HT-8114       8755      168606      11325  ...     0.140121  3.17204    LGG\n",
            "TCGA-HT-8563      11757        1012     138755  ...          NaN      NaN    LGG\n",
            "TCGA-HT-A61A          0       60154      76349  ...          NaN      NaN    LGG\n",
            "\n",
            "[167 rows x 725 columns]\n"
          ],
          "name": "stdout"
        }
      ]
    },
    {
      "cell_type": "markdown",
      "metadata": {
        "id": "TPZuFS8Kq8Ln",
        "colab_type": "text"
      },
      "source": [
        "## Section 2: Preprocessing and Splitting\n",
        "\n",
        "In this section ... "
      ]
    },
    {
      "cell_type": "code",
      "metadata": {
        "id": "YCqPK6jqrAVi",
        "colab_type": "code",
        "outputId": "812fbfa3-c820-4cd7-bce6-be50bfae918c",
        "colab": {
          "base_uri": "https://localhost:8080/",
          "height": 85
        }
      },
      "source": [
        "# Clean data for NaN, zero, #DIC/0! errors and inf values\n",
        "data_c, labels_c = preprocessing(data)\n",
        "\n",
        "# Split data into train and test set\n",
        "x_train, x_test, y_train, y_test = splitting_train_test(data_c, labels_c, 0.45)\n",
        "\n",
        "# Impute for NaN values\n",
        "imputor = KNNImputer(n_neighbors=5, weights='distance')\n",
        "# this will look for all columns where we have NaN value and replace the NaN value with specified test statistic\n",
        "data_imp_train = x_train\n",
        "data_imp_test = x_test\n",
        "# Fit imputor on training set and apply to all sets\n",
        "array_imp_train = imputor.fit_transform(data_imp_train)\n",
        "array_imp_test = imputor.transform(data_imp_test)\n",
        "data_imp_train[:] = array_imp_train\n",
        "data_imp_test[:] = array_imp_test\n",
        "\n",
        "print(f'The number of samples in train set imp: {len(data_imp_train.index)}')\n",
        "print(f'The number of samples in test set imp: {len(data_imp_test.index)}')\n",
        "print(f'The number of columns in train set imp: {len(data_imp_train.columns)}')\n",
        "print(f'The number of columns in test set imp: {len(data_imp_test.columns)}')\n",
        "\n",
        "## Scaler\n",
        "scaler = sklearn.preprocessing.StandardScaler().fit(data_imp_train)\n",
        "x_train_transformed = scaler.transform(data_imp_train)\n",
        "x_test_transformed = scaler.transform(data_imp_test)\n"
      ],
      "execution_count": 28,
      "outputs": [
        {
          "output_type": "stream",
          "text": [
            "The number of samples in train set imp: 91\n",
            "The number of samples in test set imp: 76\n",
            "The number of columns in train set imp: 456\n",
            "The number of columns in test set imp: 456\n"
          ],
          "name": "stdout"
        }
      ]
    },
    {
      "cell_type": "markdown",
      "metadata": {
        "id": "RxndbAR-bJmc",
        "colab_type": "text"
      },
      "source": [
        "## Section 3: Feature Extraction\n",
        "\n",
        "Features are extracted from the train set with  ... "
      ]
    },
    {
      "cell_type": "code",
      "metadata": {
        "id": "HvW3Zbf7bRJj",
        "colab_type": "code",
        "colab": {}
      },
      "source": [
        "# Feature extraction\n",
        "x_train_trans, x_test_trans = train_pca(x_train_transformed, x_test_transformed, components=4)\n",
        "\n",
        "print(f'Size of x_train after pca: {x_train_trans.shape}')\n",
        "print(f'Size of x_test after pca: {x_test_trans.shape}')\n",
        "print(f'Length of train labels: {len(y_train)}')\n",
        "print(f'Length of x_train after pca: {len(x_train_trans)}')\n",
        "\n",
        "pca4_plot(x_train_trans, y_train)\n"
      ],
      "execution_count": 0,
      "outputs": []
    },
    {
      "cell_type": "markdown",
      "metadata": {
        "id": "NmG6TGxFSEZy",
        "colab_type": "text"
      },
      "source": [
        "## Section 4: Training Classifiers\n",
        "\n",
        "In this section ... are trained on the train set using sklearn. "
      ]
    },
    {
      "cell_type": "code",
      "metadata": {
        "id": "u9DxKguHSMQI",
        "colab_type": "code",
        "colab": {}
      },
      "source": [
        "# Classifiers trained\n",
        "classifiers = [\n",
        "    KNeighborsClassifier(5),\n",
        "    GaussianNB(),\n",
        "    DecisionTreeClassifier()]\n",
        "names_clf = ['KNeighborsClassifier', 'GaussianNB', 'DecisionTreeClassifier']\n",
        "\n",
        "# Create empty dataframe for results\n",
        "accuracy_scores = pd.DataFrame()\n",
        "\n",
        "# Binarize results (LGG = 0, GBM = 1)\n",
        "#print(y_train)\n",
        "#y_train_reshape = y_train.reshape(1,-1)\n",
        "#print(y_train_reshape)\n",
        "#y_train_bin = sklearn.preprocessing.label_binarize(y_train_reshape, ['LGG','GBM'])\n",
        "#print(y_train_bin)\n",
        "\n",
        "y_train_bin = []\n",
        "for i in y_train:\n",
        "  if i == 'LGG':\n",
        "    i = 0\n",
        "    y_train_bin.append(i)\n",
        "  else:\n",
        "    i = 1\n",
        "    y_train_bin.append(i)\n",
        "\n",
        "print(y_train_bin)\n",
        "\n",
        "\n",
        "\n",
        "for num, clf in enumerate(classifiers):\n",
        "\n",
        "    # Create pipeline\n",
        "    #steps = [('imputation', KNNImputer(n_neighbors=5, weights='distance')),\n",
        "         #('scaler', sklearn.preprocessing.StandardScaler()),\n",
        "         # ('clf', clf)]\n",
        "    steps = [('clf', clf)]\n",
        "    pipeline = Pipeline(steps)\n",
        "\n",
        "    # Use cross-validation \n",
        "    #kfold = sklearn.model_selection.RepeatedKFold(n_splits=5, n_repeats=10, random_state=None)\n",
        "    kfold = KFold(n_splits=5)\n",
        "    accuracy = cross_val_score(pipeline, x_train_transformed, y_train, scoring='accuracy',cv=kfold)\n",
        "    auc = cross_val_score(pipeline, x_train_transformed, y_train_bin, scoring='roc_auc',cv=kfold)\n",
        "\n",
        "    # Add results to dataframe\n",
        "    accuracy_scores[num] = accuracy\n",
        "\n",
        "    print(\"Accuracy: %0.2f (+/- %0.2f)\" % (accuracy_scores.mean(), accuracy_scores.std() * 2))\n",
        "    print(\"AUC: %0.2f (+/- %0.2f)\" % (auc.mean(), auc.std() * 2))\n",
        "\n",
        "# Change column names to classifier name\n",
        "accuracy_scores.columns = names_clf\n",
        "\n",
        "print(accuracy_scores)"
      ],
      "execution_count": 0,
      "outputs": []
    },
    {
      "cell_type": "markdown",
      "metadata": {
        "id": "Q4ek-TlubWEw",
        "colab_type": "text"
      },
      "source": [
        "## Section 5: Performance Evaluation\n",
        "\n",
        "Testing classifiers on test set. The following evaluation measures are evaluated:\n",
        "\n",
        "\n",
        "*   Accuracy\n",
        "*   F1-Score\n",
        "*  AUC\n",
        "\n"
      ]
    },
    {
      "cell_type": "code",
      "metadata": {
        "id": "vAlJTBSgbnKu",
        "colab_type": "code",
        "outputId": "601a5e4e-7460-47ac-ea1c-21e04be30c83",
        "colab": {
          "base_uri": "https://localhost:8080/",
          "height": 295
        }
      },
      "source": [
        "# Metrics \n",
        "from sklearn.metrics import roc_curve, auc\n",
        "from sklearn.metrics import multilabel_confusion_matrix\n",
        "\n",
        "def roc_curve_plot(y_test, y_score, classifier):\n",
        "   \"\"\"Plot the ROC curves\"\"\"\n",
        " \n",
        "   fpr, tpr, _ = roc_curve(y_test, y_score)\n",
        "   roc_auc = auc(fpr, tpr)\n",
        "   plt.figure()\n",
        "   plt.plot(\n",
        "       fpr, tpr, color='darkorange',\n",
        "       lw=2, label='ROC curve (area = %0.2f)' % roc_auc\n",
        "   )\n",
        "   plt.plot([0, 1], [0, 1], color='navy', lw=2, linestyle='--')\n",
        "   plt.xlim([0.0, 1.0])\n",
        "   plt.ylim([0.0, 1.0])\n",
        "   plt.xlabel('False Positive Rate')\n",
        "   plt.ylabel('True Positive Rate')\n",
        "   plt.title(f'Receiver operating curve: {classifier}')\n",
        "   plt.legend(loc=\"lower right\")\n",
        "   plot_handle = plt.show(block=False)\n",
        "   return plot_handle \n",
        " \n",
        "def performance(results, y_labels, y_test):\n",
        "   \"\"\"Calculate the performance per kernel\"\"\"\n",
        " \n",
        "   prevalence = sum(y_labels) / (len(y_labels))\n",
        "   mcm = multilabel_confusion_matrix(y_test, results)\n",
        "   true_n = mcm[:, 0, 0]\n",
        "   true_p = mcm[:, 1, 1]\n",
        "   false_n = mcm[:, 1, 0]\n",
        "   false_p = mcm[:, 0, 1]\n",
        "   try:\n",
        "       sensitivity = true_p / (true_p + false_n)\n",
        "       specificity = true_n / (false_p + true_n)\n",
        "       accuracy = (sensitivity * prevalence) + ((specificity * (1 - prevalence)))\n",
        "   except ZeroDivisionError:\n",
        "       print(\"Dividing by zero\")\n",
        "       return None\n",
        "  \n",
        "   return sensitivity, specificity, accuracy\n",
        "\n",
        "y_test_bin = []\n",
        "for i in y_test:\n",
        "  if i == 'LGG':\n",
        "    i = 0\n",
        "    y_test_bin.append(i)\n",
        "  else:\n",
        "    i = 1\n",
        "    y_test_bin.append(i)\n",
        "\n",
        "steps = [('clf', DecisionTreeClassifier())]\n",
        "pipeline = Pipeline(steps)\n",
        "y_score = sklearn.model_selection.cross_val_predict(pipeline, x_test_transformed, y_test_bin, cv=kfold, method='predict_proba')\n",
        "\n",
        "curve = roc_curve_plot(y_test_bin,y_score[:,1], GaussianNB)\n",
        "\n",
        "\n",
        "# ## ERROR: WORDT NU GEFIT OP X_TRAIN_TRANFORMED > Dit moet ik nog omschrijven ## \n",
        "# y_test_bin = []\n",
        "# for i in y_test:\n",
        "#   if i == 'LGG':\n",
        "#     i = 0\n",
        "#     y_test_bin.append(i)\n",
        "#   else:\n",
        "#     i = 1\n",
        "#     y_test_bin.append(i)\n",
        "\n",
        "# steps = [('clf', DecisionTreeClassifier())]\n",
        "# pipeline = Pipeline(steps)\n",
        "# y_score = sklearn.model_selection.cross_val_predict(pipeline, x_test_transformed, y_test_bin, cv=kfold, method='predict_proba')\n",
        "# fpr, tpr, thresholds = sklearn.metrics.roc_curve(y_test_bin, y_score[:, 1])\n",
        "# roc_auc = metrics.auc(fpr, tpr)\n",
        "\n",
        "# plt.figure()\n",
        "# plt.title(f'Receiver Operating Characteristic (ROC) Curve')\n",
        "# plt.plot(fpr, tpr, 'b', label='AUC = %0.2f' % roc_auc)\n",
        "# plt.legend(loc='lower right')\n",
        "# plt.plot([0, 1], [0, 1], 'r--')\n",
        "# plt.xlim([0, 1])\n",
        "# plt.ylim([0, 1])\n",
        "# plt.ylabel('True Positive Rate')\n",
        "# plt.xlabel('False Positive Rate')"
      ],
      "execution_count": 24,
      "outputs": [
        {
          "output_type": "display_data",
          "data": {
            "image/png": "[encoded data removed]",
            "text/plain": [
              "<Figure size 432x288 with 1 Axes>"
            ]
          },
          "metadata": {
            "tags": []
          }
        }
      ]
    }
  ]
}