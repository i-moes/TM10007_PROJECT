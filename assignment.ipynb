{
  "nbformat": 4,
  "nbformat_minor": 0,
  "metadata": {
    "colab": {
      "name": "assignment.ipynb",
      "provenance": [],
      "collapsed_sections": [],
      "toc_visible": true,
      "include_colab_link": true
    },
    "kernelspec": {
      "display_name": "Python 3",
      "language": "python",
      "name": "python3"
    },
    "language_info": {
      "codemirror_mode": {
        "name": "ipython",
        "version": 3
      },
      "file_extension": ".py",
      "mimetype": "text/x-python",
      "name": "python",
      "nbconvert_exporter": "python",
      "pygments_lexer": "ipython3",
      "version": "3.7.4"
    }
  },
  "cells": [
    {
      "cell_type": "markdown",
      "metadata": {
        "id": "view-in-github",
        "colab_type": "text"
      },
      "source": [
        "<a href=\"https://colab.research.google.com/github/i-moes/TM10007_PROJECT/blob/master/assignment.ipynb\" target=\"_parent\"><img src=\"https://colab.research.google.com/assets/colab-badge.svg\" alt=\"Open In Colab\"/></a>"
      ]
    },
    {
      "cell_type": "markdown",
      "metadata": {
        "colab_type": "text",
        "id": "7SXpaKwwGe5x"
      },
      "source": [
        "# TM10007 Assignment Group 7\n",
        "\n",
        "---\n",
        "\n"
      ]
    },
    {
      "cell_type": "code",
      "metadata": {
        "colab_type": "code",
        "id": "CiDn2Sk-VWqE",
        "colab": {}
      },
      "source": [
        "# Run this to use from colab environment\n",
        "!pip install -q --upgrade git+https://github.com/i-moes/TM10007_PROJECT.git\n",
        "\n",
        "# Install packages\n",
        "!pip install sklearn numpy matplotlib"
      ],
      "execution_count": 0,
      "outputs": []
    },
    {
      "cell_type": "code",
      "metadata": {
        "id": "qUekQv8AUkCT",
        "colab_type": "code",
        "colab": {}
      },
      "source": [
        "# # General packages\n",
        "import numpy as np \n",
        "import matplotlib.pyplot as plt\n",
        "from sklearn import datasets as ds\n",
        "from sklearn import metrics\n",
        "from sklearn.model_selection import train_test_split\n",
        "from sklearn.impute import KNNImputer\n",
        " \n",
        "# Metrics\n",
        "#from sklearn.metrics import confusion_matrix\n",
        "#from sklearn.metrics import mean_absolute_error\n",
        "# from sklearn.metrics import r2_score\n",
        "\n",
        "# Classifiers\n",
        "from sklearn.naive_bayes import GaussianNB\n",
        "from sklearn.discriminant_analysis import LinearDiscriminantAnalysis\n",
        "from sklearn.discriminant_analysis import QuadraticDiscriminantAnalysis\n",
        "from sklearn.linear_model import LogisticRegression\n",
        "from sklearn.linear_model import SGDClassifier\n",
        "from sklearn.tree import DecisionTreeClassifier\n",
        "from sklearn.neighbors import KNeighborsClassifier"
      ],
      "execution_count": 0,
      "outputs": []
    },
    {
      "cell_type": "markdown",
      "metadata": {
        "id": "FXmtU-niSdDM",
        "colab_type": "text"
      },
      "source": [
        "## Section 1: Data loading and Preprocessing\n",
        "\n",
        "\n",
        "In this section the data is loaded and preprocessed."
      ]
    },
    {
      "cell_type": "code",
      "metadata": {
        "colab_type": "code",
        "id": "-NE_fTbKGe5z",
        "outputId": "dc59967a-a19b-477f-94cf-d91e08642645",
        "colab": {
          "base_uri": "https://localhost:8080/",
          "height": 357
        }
      },
      "source": [
        "## Load Data\n",
        "\n",
        "from brats.load_data import load_data\n",
        "data = load_data()\n",
        "\n",
        "print(f'The number of samples: {len(data.index)}')\n",
        "print(f'The number of columns: {len(data.columns)}')\n",
        "\n",
        "\n",
        "## Preprocessing\n",
        "\n",
        "# Extract labels from dataframe\n",
        "labels = data['label']\n",
        "# Drop column containing patient labels for imputation\n",
        "data = data.drop(columns=['label'])\n",
        "\n",
        "# Replace all zero values with NaN\n",
        "data.replace(0, np.nan, inplace=True)\n",
        "# Replace all zero division errors with NaN\n",
        "data.replace('#DIV/0!', np.nan, inplace=True)\n",
        "# Replace all inf values with NaN\n",
        "data.replace(np.inf, np.nan, inplace=True)\n",
        "\n",
        "# Remove column when >5% of values is NaN\n",
        "data.dropna(axis = 1, thresh=0.95*len(data.index), inplace=True)\n",
        "\n",
        "print(f'The number of samples: {len(data.index)}')\n",
        "print(f'The number of columns: {len(data.columns)}')\n",
        "\n",
        "# Impute for NaN values\n",
        "data_imp = data\n",
        "imputor = KNNImputer(n_neighbors=5, weights='distance')\n",
        "# this will look for all columns where we have NaN value and replace the NaN value with specified test statistic\n",
        "array_imp = imputor.fit_transform(data_imp)\n",
        "data_imp[:] = array_imp\n",
        "\n",
        "print(f'The number of samples: {len(data_imp.index)}')\n",
        "print(f'The number of columns: {len(data_imp.columns)}')\n",
        "print(f'Length of labels: {len(labels)}')\n",
        "print(labels)\n"
      ],
      "execution_count": 37,
      "outputs": [
        {
          "output_type": "stream",
          "text": [
            "The number of samples: 167\n",
            "The number of columns: 725\n",
            "The number of samples: 167\n",
            "The number of columns: 456\n",
            "The number of samples: 167\n",
            "The number of columns: 456\n",
            "Length of labels: 167\n",
            "ID\n",
            "TCGA-02-0006    GBM\n",
            "TCGA-02-0009    GBM\n",
            "TCGA-02-0011    GBM\n",
            "TCGA-02-0027    GBM\n",
            "TCGA-02-0033    GBM\n",
            "               ... \n",
            "TCGA-HT-8018    LGG\n",
            "TCGA-HT-8111    LGG\n",
            "TCGA-HT-8114    LGG\n",
            "TCGA-HT-8563    LGG\n",
            "TCGA-HT-A61A    LGG\n",
            "Name: label, Length: 167, dtype: object\n"
          ],
          "name": "stdout"
        }
      ]
    },
    {
      "cell_type": "markdown",
      "metadata": {
        "id": "sK1rZhOzTyLP",
        "colab_type": "text"
      },
      "source": [
        "## Section 2: Splitting Data in Train and Test Set\n",
        "\n",
        "The data is splitted into a train and test set. This is done using train_test_split from sklearn.model_selection. The test data contains 45% of the data. "
      ]
    },
    {
      "cell_type": "code",
      "metadata": {
        "id": "ogGZ7PZwUE2q",
        "colab_type": "code",
        "outputId": "be62ae16-5832-4b5f-e0e0-5c98157a5b4c",
        "colab": {
          "base_uri": "https://localhost:8080/",
          "height": 510
        }
      },
      "source": [
        "# splitting data in train and test set \n",
        "x_train, x_test, y_train, y_test = train_test_split(data_imp, labels, test_size = 0.45)\n",
        "print(f'length of x_train: {len(x_train.index)}')\n",
        "print(f'length of x_test: {len(x_test.index)}')\n",
        "print(f'total is: {len(x_train.index) + len(x_test.index)}')\n",
        "print(y_train)\n",
        "print(y_test)"
      ],
      "execution_count": 38,
      "outputs": [
        {
          "output_type": "stream",
          "text": [
            "length of x_train: 91\n",
            "length of x_test: 76\n",
            "total is: 167\n",
            "ID\n",
            "TCGA-02-0075    GBM\n",
            "TCGA-HT-7884    LGG\n",
            "TCGA-06-0154    GBM\n",
            "TCGA-06-0646    GBM\n",
            "TCGA-19-1789    GBM\n",
            "               ... \n",
            "TCGA-06-6389    GBM\n",
            "TCGA-DU-5872    LGG\n",
            "TCGA-02-0037    GBM\n",
            "TCGA-14-1456    GBM\n",
            "TCGA-14-3477    GBM\n",
            "Name: label, Length: 91, dtype: object\n",
            "ID\n",
            "TCGA-08-0385    GBM\n",
            "TCGA-08-0522    GBM\n",
            "TCGA-DU-A5TT    LGG\n",
            "TCGA-08-0512    GBM\n",
            "TCGA-FG-5964    LGG\n",
            "               ... \n",
            "TCGA-02-0033    GBM\n",
            "TCGA-CS-6668    LGG\n",
            "TCGA-DU-8162    LGG\n",
            "TCGA-06-0177    GBM\n",
            "TCGA-06-0142    GBM\n",
            "Name: label, Length: 76, dtype: object\n"
          ],
          "name": "stdout"
        }
      ]
    },
    {
      "cell_type": "markdown",
      "metadata": {
        "id": "RxndbAR-bJmc",
        "colab_type": "text"
      },
      "source": [
        "## Section 3: Feature Extraction\n",
        "\n",
        "Features are extracted from the train set with  ... "
      ]
    },
    {
      "cell_type": "code",
      "metadata": {
        "id": "HvW3Zbf7bRJj",
        "colab_type": "code",
        "outputId": "0713fd64-8017-43b0-819e-cae9db5ab023",
        "colab": {
          "base_uri": "https://localhost:8080/",
          "height": 375
        }
      },
      "source": [
        "# Feature extraction\n",
        "import sys\n",
        "import os\n",
        "import seaborn as sns\n",
        "import pandas as pd\n",
        "from sklearn.decomposition import PCA\n",
        "\n",
        "def train_pca(point_data_train, point_data_test, components=4):\n",
        "    '''\n",
        "    The  Principal component analysis (PCA) training function creates\n",
        "    and fits the PCA to transform point data into\n",
        "    based on an amount of prinicipal components.\n",
        "    Returns the transformed point data.\n",
        "\n",
        "    Parameters\n",
        "    ----------\n",
        "\n",
        "    point_data_train : array-like, shape (n_samples, n_features)\n",
        "        Training data, where n_samples is the number of samples\n",
        "        and n_features is the number of features.\n",
        "\n",
        "    point_data_test : array-like, shape (n_samples, n_features)\n",
        "        Testing data, where n_samples is the number of samples\n",
        "        and n_features is the number of features.\n",
        "\n",
        "    components : integer\n",
        "        Amount of used principal components.\n",
        "        Default value is 4 principal components\n",
        "\n",
        "    Returns\n",
        "    -------\n",
        "\n",
        "    point_data_train_trans : array-like, shape (n_samples, n_features)\n",
        "        Transformed training data, where n_samples is the number of samples\n",
        "        and n_features is the number of features.\n",
        "\n",
        "    point_data_test_trans : array-like, shape (n_samples, n_features)\n",
        "        Transformed test data, where n_samples is the number of samples\n",
        "        and n_features is the number of features.\n",
        "\n",
        "    '''\n",
        "\n",
        "    try:\n",
        "        # Create a PCA which retains an amount of principle components\n",
        "        pca = PCA(n_components=components)\n",
        "\n",
        "        # Fit the PCA model\n",
        "        pca.fit(point_data_train)\n",
        "\n",
        "        # Transform data\n",
        "        point_data_train_trans = pca.transform(point_data_train)\n",
        "        point_data_test_trans = pca.transform(point_data_test)\n",
        "\n",
        "        return point_data_train_trans, point_data_test_trans\n",
        "    except ValueError:\n",
        "        print('Not enough subjects per set to fit the requested amount of components in PCA.')\n",
        "        sys.exit()\n",
        "\n",
        "x_train_trans, x_test_trans = train_pca(x_train, x_test, components=4)\n",
        "\n",
        "print(f' length of x_train after pca (index): {len(x_train_trans)}')\n",
        "print(f' length of x_test after pca (index): {len(x_test_trans)}')\n",
        "\n",
        "\n",
        "def pca4_plot(data, labels):\n",
        "    '''\n",
        "    Function to pairplot the results of the principal components analysis by creating\n",
        "    a dataframe of the the data and labels. The plot is saved in the directory\n",
        "\n",
        "    Parameters\n",
        "    ----------\n",
        "    data : array-like, shape (n_samples, n_features)\n",
        "        Training data, where n_samples is the number of samples\n",
        "        and n_features is the number of features.\n",
        "\n",
        "    labels : array, shape = [n_samples]\n",
        "        Corresponding labels for data\n",
        "\n",
        "    directory : string\n",
        "        Defines where the results are saved as pdf\n",
        "\n",
        "    '''\n",
        "\n",
        "    # Creating a dataframe with the labels\n",
        "    dataframe = pd.DataFrame(data)\n",
        "    dataframe['label'] = labels\n",
        "\n",
        "    print(f'number of indexes of dataframe: {len(dataframe.index)}')\n",
        "    print(f'number of columns of dataframe: {len(dataframe.columns)}')\n",
        "\n",
        "    print(dataframe.head(3))\n",
        "\n",
        "    # Plotting the pairplot and saving in directory as pdf\n",
        "    sns.pairplot(dataframe, hue='label')\n",
        "    \n",
        "    \n",
        "#pca4_plot(data_imp, labels)\n",
        "\n",
        "data_imp['label'] = labels\n",
        "#sns.pairplot(data_imp, hue='label')"
      ],
      "execution_count": 42,
      "outputs": [
        {
          "output_type": "stream",
          "text": [
            " length of x_train after pca (index): 91\n",
            " length of x_test after pca (index): 76\n"
          ],
          "name": "stdout"
        },
        {
          "output_type": "error",
          "ename": "ValueError",
          "evalue": "ignored",
          "traceback": [
            "\u001b[0;31m---------------------------------------------------------------------------\u001b[0m",
            "\u001b[0;31mValueError\u001b[0m                                Traceback (most recent call last)",
            "\u001b[0;32m<ipython-input-42-b7aa284240d4>\u001b[0m in \u001b[0;36m<module>\u001b[0;34m()\u001b[0m\n\u001b[1;32m     97\u001b[0m \u001b[0;34m\u001b[0m\u001b[0m\n\u001b[1;32m     98\u001b[0m \u001b[0mdata_imp\u001b[0m\u001b[0;34m[\u001b[0m\u001b[0;34m'label'\u001b[0m\u001b[0;34m]\u001b[0m \u001b[0;34m=\u001b[0m \u001b[0mlabels\u001b[0m\u001b[0;34m\u001b[0m\u001b[0;34m\u001b[0m\u001b[0m\n\u001b[0;32m---> 99\u001b[0;31m \u001b[0msns\u001b[0m\u001b[0;34m.\u001b[0m\u001b[0mregplot\u001b[0m\u001b[0;34m(\u001b[0m\u001b[0mdata_imp\u001b[0m\u001b[0;34m,\u001b[0m \u001b[0mlabels\u001b[0m\u001b[0;34m)\u001b[0m\u001b[0;34m\u001b[0m\u001b[0;34m\u001b[0m\u001b[0m\n\u001b[0m",
            "\u001b[0;32m/usr/local/lib/python3.6/dist-packages/seaborn/regression.py\u001b[0m in \u001b[0;36mregplot\u001b[0;34m(x, y, data, x_estimator, x_bins, x_ci, scatter, fit_reg, ci, n_boot, units, seed, order, logistic, lowess, robust, logx, x_partial, y_partial, truncate, dropna, x_jitter, y_jitter, label, color, marker, scatter_kws, line_kws, ax)\u001b[0m\n\u001b[1;32m    808\u001b[0m                                  \u001b[0morder\u001b[0m\u001b[0;34m,\u001b[0m \u001b[0mlogistic\u001b[0m\u001b[0;34m,\u001b[0m \u001b[0mlowess\u001b[0m\u001b[0;34m,\u001b[0m \u001b[0mrobust\u001b[0m\u001b[0;34m,\u001b[0m \u001b[0mlogx\u001b[0m\u001b[0;34m,\u001b[0m\u001b[0;34m\u001b[0m\u001b[0;34m\u001b[0m\u001b[0m\n\u001b[1;32m    809\u001b[0m                                  \u001b[0mx_partial\u001b[0m\u001b[0;34m,\u001b[0m \u001b[0my_partial\u001b[0m\u001b[0;34m,\u001b[0m \u001b[0mtruncate\u001b[0m\u001b[0;34m,\u001b[0m \u001b[0mdropna\u001b[0m\u001b[0;34m,\u001b[0m\u001b[0;34m\u001b[0m\u001b[0;34m\u001b[0m\u001b[0m\n\u001b[0;32m--> 810\u001b[0;31m                                  x_jitter, y_jitter, color, label)\n\u001b[0m\u001b[1;32m    811\u001b[0m \u001b[0;34m\u001b[0m\u001b[0m\n\u001b[1;32m    812\u001b[0m     \u001b[0;32mif\u001b[0m \u001b[0max\u001b[0m \u001b[0;32mis\u001b[0m \u001b[0;32mNone\u001b[0m\u001b[0;34m:\u001b[0m\u001b[0;34m\u001b[0m\u001b[0;34m\u001b[0m\u001b[0m\n",
            "\u001b[0;32m/usr/local/lib/python3.6/dist-packages/seaborn/regression.py\u001b[0m in \u001b[0;36m__init__\u001b[0;34m(self, x, y, data, x_estimator, x_bins, x_ci, scatter, fit_reg, ci, n_boot, units, seed, order, logistic, lowess, robust, logx, x_partial, y_partial, truncate, dropna, x_jitter, y_jitter, color, label)\u001b[0m\n\u001b[1;32m    108\u001b[0m         \u001b[0;31m# Extract the data vals from the arguments or passed dataframe\u001b[0m\u001b[0;34m\u001b[0m\u001b[0;34m\u001b[0m\u001b[0;34m\u001b[0m\u001b[0m\n\u001b[1;32m    109\u001b[0m         self.establish_variables(data, x=x, y=y, units=units,\n\u001b[0;32m--> 110\u001b[0;31m                                  x_partial=x_partial, y_partial=y_partial)\n\u001b[0m\u001b[1;32m    111\u001b[0m \u001b[0;34m\u001b[0m\u001b[0m\n\u001b[1;32m    112\u001b[0m         \u001b[0;31m# Drop null observations\u001b[0m\u001b[0;34m\u001b[0m\u001b[0;34m\u001b[0m\u001b[0;34m\u001b[0m\u001b[0m\n",
            "\u001b[0;32m/usr/local/lib/python3.6/dist-packages/seaborn/regression.py\u001b[0m in \u001b[0;36mestablish_variables\u001b[0;34m(self, data, **kws)\u001b[0m\n\u001b[1;32m     53\u001b[0m             \u001b[0;32mif\u001b[0m \u001b[0mnp\u001b[0m\u001b[0;34m.\u001b[0m\u001b[0mndim\u001b[0m\u001b[0;34m(\u001b[0m\u001b[0mvector\u001b[0m\u001b[0;34m)\u001b[0m \u001b[0;34m>\u001b[0m \u001b[0;36m1\u001b[0m\u001b[0;34m:\u001b[0m\u001b[0;34m\u001b[0m\u001b[0;34m\u001b[0m\u001b[0m\n\u001b[1;32m     54\u001b[0m                 \u001b[0merr\u001b[0m \u001b[0;34m=\u001b[0m \u001b[0;34m\"regplot inputs must be 1d\"\u001b[0m\u001b[0;34m\u001b[0m\u001b[0;34m\u001b[0m\u001b[0m\n\u001b[0;32m---> 55\u001b[0;31m                 \u001b[0;32mraise\u001b[0m \u001b[0mValueError\u001b[0m\u001b[0;34m(\u001b[0m\u001b[0merr\u001b[0m\u001b[0;34m)\u001b[0m\u001b[0;34m\u001b[0m\u001b[0;34m\u001b[0m\u001b[0m\n\u001b[0m\u001b[1;32m     56\u001b[0m             \u001b[0msetattr\u001b[0m\u001b[0;34m(\u001b[0m\u001b[0mself\u001b[0m\u001b[0;34m,\u001b[0m \u001b[0mvar\u001b[0m\u001b[0;34m,\u001b[0m \u001b[0mvector\u001b[0m\u001b[0;34m)\u001b[0m\u001b[0;34m\u001b[0m\u001b[0;34m\u001b[0m\u001b[0m\n\u001b[1;32m     57\u001b[0m \u001b[0;34m\u001b[0m\u001b[0m\n",
            "\u001b[0;31mValueError\u001b[0m: regplot inputs must be 1d"
          ]
        }
      ]
    },
    {
      "cell_type": "markdown",
      "metadata": {
        "id": "NmG6TGxFSEZy",
        "colab_type": "text"
      },
      "source": [
        "## Section 4: Training Classifiers\n",
        "\n",
        "In this section ... are trained on the train set using sklearn. "
      ]
    },
    {
      "cell_type": "code",
      "metadata": {
        "id": "u9DxKguHSMQI",
        "colab_type": "code",
        "colab": {}
      },
      "source": [
        "# Classifiers"
      ],
      "execution_count": 0,
      "outputs": []
    },
    {
      "cell_type": "markdown",
      "metadata": {
        "id": "Q4ek-TlubWEw",
        "colab_type": "text"
      },
      "source": [
        "## Section 5: Performance Evaluation\n",
        "\n",
        "Testing classifiers on test set. The following evaluation measures are evaluated:\n",
        "\n",
        "\n",
        "*   Accuracy\n",
        "*   F1-Score\n",
        "*  AUC\n",
        "\n"
      ]
    },
    {
      "cell_type": "code",
      "metadata": {
        "id": "vAlJTBSgbnKu",
        "colab_type": "code",
        "colab": {}
      },
      "source": [
        "# Metrics "
      ],
      "execution_count": 0,
      "outputs": []
    }
  ]
}