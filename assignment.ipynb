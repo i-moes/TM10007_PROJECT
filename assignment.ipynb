{
  "nbformat": 4,
  "nbformat_minor": 0,
  "metadata": {
    "colab": {
      "name": "assignment.ipynb",
      "provenance": [],
      "collapsed_sections": [],
      "include_colab_link": true
    },
    "kernelspec": {
      "display_name": "Python 3",
      "language": "python",
      "name": "python3"
    },
    "language_info": {
      "codemirror_mode": {
        "name": "ipython",
        "version": 3
      },
      "file_extension": ".py",
      "mimetype": "text/x-python",
      "name": "python",
      "nbconvert_exporter": "python",
      "pygments_lexer": "ipython3",
      "version": "3.7.4"
    }
  },
  "cells": [
    {
      "cell_type": "markdown",
      "metadata": {
        "id": "view-in-github",
        "colab_type": "text"
      },
      "source": [
        "<a href=\"https://colab.research.google.com/github/i-moes/TM10007_PROJECT/blob/master/assignment.ipynb\" target=\"_parent\"><img src=\"https://colab.research.google.com/assets/colab-badge.svg\" alt=\"Open In Colab\"/></a>"
      ]
    },
    {
      "cell_type": "markdown",
      "metadata": {
        "colab_type": "text",
        "id": "7SXpaKwwGe5x"
      },
      "source": [
        "# TM10007 Assignment template"
      ]
    },
    {
      "cell_type": "code",
      "metadata": {
        "colab_type": "code",
        "id": "CiDn2Sk-VWqE",
        "outputId": "cdbae397-18b8-4afe-8486-f6d579c86fbc",
        "colab": {
          "base_uri": "https://localhost:8080/",
          "height": 34
        }
      },
      "source": [
        "# Run this to use from colab environment\n",
        "!pip install -q --upgrade git+https://github.com/i-moes/TM10007_PROJECT.git\n",
        "\n",
        "# Install packages\n",
        "!pip install sklearn numpy matplotlib"
      ],
      "execution_count": 1,
      "outputs": [
        {
          "output_type": "stream",
          "text": [
            "  Building wheel for brats (setup.py) ... \u001b[?25l\u001b[?25hdone\n"
          ],
          "name": "stdout"
        }
      ]
    },
    {
      "cell_type": "code",
      "metadata": {
        "id": "qUekQv8AUkCT",
        "colab_type": "code",
        "colab": {}
      },
      "source": [
        "# # General packages\n",
        "import numpy as np \n",
        "import matplotlib.pyplot as plt\n",
        "from sklearn import datasets as ds\n",
        "from sklearn import metrics\n",
        "from sklearn.model_selection import train_test_split\n",
        " \n",
        "# Metrics\n",
        "#from sklearn.metrics import confusion_matrix\n",
        "#from sklearn.metrics import mean_absolute_error\n",
        "# from sklearn.metrics import r2_score\n",
        "\n",
        "# Classifiers\n",
        "from sklearn.naive_bayes import GaussianNB\n",
        "from sklearn.discriminant_analysis import LinearDiscriminantAnalysis\n",
        "from sklearn.discriminant_analysis import QuadraticDiscriminantAnalysis\n",
        "from sklearn.linear_model import LogisticRegression\n",
        "from sklearn.linear_model import SGDClassifier\n",
        "from sklearn.tree import DecisionTreeClassifier\n",
        "from sklearn.neighbors import KNeighborsClassifier"
      ],
      "execution_count": 0,
      "outputs": []
    },
    {
      "cell_type": "markdown",
      "metadata": {
        "id": "FXmtU-niSdDM",
        "colab_type": "text"
      },
      "source": [
        "## Data loading and cleaning\n",
        "\n",
        "Below are functions to load the dataset of your choice. After that, it is all up to you to create and evaluate a classification method. Beware, there may be missing values in these datasets. Good luck!"
      ]
    },
    {
      "cell_type": "code",
      "metadata": {
        "colab_type": "code",
        "id": "-NE_fTbKGe5z",
        "colab": {
          "base_uri": "https://localhost:8080/",
          "height": 204
        },
        "outputId": "1640e97c-6a94-4b62-ebed-b8b59382f339"
      },
      "source": [
        "# Data loading functions. Uncomment the one you want to use\n",
        "#from adni.load_data import load_data\n",
        "from brats.load_data import load_data\n",
        "#from hn.load_data import load_data\n",
        "\n",
        "data = load_data()\n",
        "print(f'The number of samples: {len(data.index)}')\n",
        "print(f'The number of columns: {len(data.columns)}')\n",
        "\n",
        "print(data.head())"
      ],
      "execution_count": 19,
      "outputs": [
        {
          "output_type": "stream",
          "text": [
            "The number of samples: 167\n",
            "The number of columns: 725\n",
            "              VOLUME_ET  VOLUME_NET  VOLUME_ED  ...  TGM_Cog_Z_6  TGM_T_6  label\n",
            "ID                                              ...                             \n",
            "TCGA-02-0006       1662         384      36268  ...          NaN      NaN    GBM\n",
            "TCGA-02-0009       4362        4349      15723  ...          NaN      NaN    GBM\n",
            "TCGA-02-0011      33404       48612      45798  ...          NaN      NaN    GBM\n",
            "TCGA-02-0027      12114        7587      34086  ...          NaN      NaN    GBM\n",
            "TCGA-02-0033      34538        7137      65653  ...          NaN      NaN    GBM\n",
            "\n",
            "[5 rows x 725 columns]\n"
          ],
          "name": "stdout"
        }
      ]
    },
    {
      "cell_type": "markdown",
      "metadata": {
        "id": "sK1rZhOzTyLP",
        "colab_type": "text"
      },
      "source": [
        "**1 Splitting Training and Test set**\n",
        "\n",
        "First the data needs to be splitted into a train and test set. This is done using train_test_split from sklearn.model_selection. The test data contains 45% of the data. "
      ]
    },
    {
      "cell_type": "code",
      "metadata": {
        "id": "ogGZ7PZwUE2q",
        "colab_type": "code",
        "colab": {}
      },
      "source": [
        "\n",
        "\n",
        "# splitting data in train and test set \n",
        "x_train, x_test = train_test_split(data, test_size = 0.45)\n",
        "\n",
        "print(x_train.head())\n",
        "print(x_test.head())\n",
        "\n"
      ],
      "execution_count": 0,
      "outputs": []
    },
    {
      "cell_type": "code",
      "metadata": {
        "id": "8DuIJPTuaXYn",
        "colab_type": "code",
        "colab": {}
      },
      "source": [
        "# extracting labels from both the train and test set\n",
        "y_train = x_train['label']\n",
        "y_test = x_test['label']\n",
        "# removing label column from dataframes\n",
        "del x_train['label']\n",
        "del x_test['label']\n"
      ],
      "execution_count": 0,
      "outputs": []
    },
    {
      "cell_type": "markdown",
      "metadata": {
        "id": "WQtmfO5aa717",
        "colab_type": "text"
      },
      "source": [
        "**2 Preprocessing**\n",
        "\n",
        "Next, ..."
      ]
    },
    {
      "cell_type": "code",
      "metadata": {
        "id": "PRk057UibDC6",
        "colab_type": "code",
        "colab": {}
      },
      "source": [
        "# preprocessing data"
      ],
      "execution_count": 0,
      "outputs": []
    },
    {
      "cell_type": "markdown",
      "metadata": {
        "id": "RxndbAR-bJmc",
        "colab_type": "text"
      },
      "source": [
        "**3 Training classifiers**\n",
        "\n",
        "Different classifiers were trained. "
      ]
    },
    {
      "cell_type": "code",
      "metadata": {
        "id": "HvW3Zbf7bRJj",
        "colab_type": "code",
        "colab": {}
      },
      "source": [
        "# training"
      ],
      "execution_count": 0,
      "outputs": []
    },
    {
      "cell_type": "markdown",
      "metadata": {
        "id": "Q4ek-TlubWEw",
        "colab_type": "text"
      },
      "source": [
        "**4 Performance evaluation**\n",
        "\n",
        "The classifiers were then tested on the test set. The following evaluation measures were used:\n",
        "\n",
        "\n",
        "*   Accuracy\n",
        "*   F1-Score\n",
        "*  AUC\n",
        "\n"
      ]
    },
    {
      "cell_type": "code",
      "metadata": {
        "id": "vAlJTBSgbnKu",
        "colab_type": "code",
        "colab": {}
      },
      "source": [
        "# Metrics "
      ],
      "execution_count": 0,
      "outputs": []
    }
  ]
}