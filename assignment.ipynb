{
  "nbformat": 4,
  "nbformat_minor": 0,
  "metadata": {
    "colab": {
      "name": "assignment.ipynb",
      "provenance": [],
      "collapsed_sections": [],
      "toc_visible": true,
      "include_colab_link": true
    },
    "kernelspec": {
      "display_name": "Python 3",
      "language": "python",
      "name": "python3"
    },
    "language_info": {
      "codemirror_mode": {
        "name": "ipython",
        "version": 3
      },
      "file_extension": ".py",
      "mimetype": "text/x-python",
      "name": "python",
      "nbconvert_exporter": "python",
      "pygments_lexer": "ipython3",
      "version": "3.7.4"
    }
  },
  "cells": [
    {
      "cell_type": "markdown",
      "metadata": {
        "id": "view-in-github",
        "colab_type": "text"
      },
      "source": [
        "<a href=\"https://colab.research.google.com/github/i-moes/TM10007_PROJECT/blob/master/assignment.ipynb\" target=\"_parent\"><img src=\"https://colab.research.google.com/assets/colab-badge.svg\" alt=\"Open In Colab\"/></a>"
      ]
    },
    {
      "cell_type": "markdown",
      "metadata": {
        "colab_type": "text",
        "id": "7SXpaKwwGe5x"
      },
      "source": [
        "# TM10007 Assignment Group 7\n",
        "\n",
        "---\n",
        "\n"
      ]
    },
    {
      "cell_type": "code",
      "metadata": {
        "colab_type": "code",
        "id": "CiDn2Sk-VWqE",
        "outputId": "55d8a72a-f739-4470-b607-d8ad2dc2fc63",
        "colab": {
          "base_uri": "https://localhost:8080/",
          "height": 258
        }
      },
      "source": [
        "# Run this to use from colab environment\n",
        "!pip install -q --upgrade git+https://github.com/i-moes/TM10007_PROJECT.git\n",
        "\n",
        "# Install packages\n",
        "!pip install sklearn numpy matplotlib"
      ],
      "execution_count": 2,
      "outputs": [
        {
          "output_type": "stream",
          "text": [
            "  Building wheel for brats (setup.py) ... \u001b[?25l\u001b[?25hdone\n",
            "Requirement already satisfied: sklearn in /usr/local/lib/python3.6/dist-packages (0.0)\n",
            "Requirement already satisfied: numpy in /usr/local/lib/python3.6/dist-packages (1.18.2)\n",
            "Requirement already satisfied: matplotlib in /usr/local/lib/python3.6/dist-packages (3.2.0)\n",
            "Requirement already satisfied: scikit-learn in /usr/local/lib/python3.6/dist-packages (from sklearn) (0.22.2.post1)\n",
            "Requirement already satisfied: python-dateutil>=2.1 in /usr/local/lib/python3.6/dist-packages (from matplotlib) (2.8.1)\n",
            "Requirement already satisfied: pyparsing!=2.0.4,!=2.1.2,!=2.1.6,>=2.0.1 in /usr/local/lib/python3.6/dist-packages (from matplotlib) (2.4.6)\n",
            "Requirement already satisfied: kiwisolver>=1.0.1 in /usr/local/lib/python3.6/dist-packages (from matplotlib) (1.1.0)\n",
            "Requirement already satisfied: cycler>=0.10 in /usr/local/lib/python3.6/dist-packages (from matplotlib) (0.10.0)\n",
            "Requirement already satisfied: joblib>=0.11 in /usr/local/lib/python3.6/dist-packages (from scikit-learn->sklearn) (0.14.1)\n",
            "Requirement already satisfied: scipy>=0.17.0 in /usr/local/lib/python3.6/dist-packages (from scikit-learn->sklearn) (1.4.1)\n",
            "Requirement already satisfied: six>=1.5 in /usr/local/lib/python3.6/dist-packages (from python-dateutil>=2.1->matplotlib) (1.12.0)\n",
            "Requirement already satisfied: setuptools in /usr/local/lib/python3.6/dist-packages (from kiwisolver>=1.0.1->matplotlib) (46.0.0)\n"
          ],
          "name": "stdout"
        }
      ]
    },
    {
      "cell_type": "code",
      "metadata": {
        "id": "qUekQv8AUkCT",
        "colab_type": "code",
        "colab": {}
      },
      "source": [
        "# # General packages\n",
        "import numpy as np \n",
        "import pandas as pd\n",
        "import matplotlib.pyplot as plt\n",
        "import sklearn\n",
        "from sklearn import datasets as ds\n",
        "from sklearn import metrics\n",
        "from sklearn.model_selection import train_test_split\n",
        "from sklearn.impute import KNNImputer\n",
        " \n",
        "# Metrics\n",
        "#from sklearn.metrics import confusion_matrix\n",
        "#from sklearn.metrics import mean_absolute_error\n",
        "# from sklearn.metrics import r2_score\n",
        "\n",
        "# Classifiers\n",
        "from sklearn.naive_bayes import GaussianNB\n",
        "from sklearn.discriminant_analysis import LinearDiscriminantAnalysis\n",
        "from sklearn.discriminant_analysis import QuadraticDiscriminantAnalysis\n",
        "from sklearn.linear_model import LogisticRegression\n",
        "from sklearn.linear_model import SGDClassifier\n",
        "from sklearn.tree import DecisionTreeClassifier\n",
        "from sklearn.neighbors import KNeighborsClassifier\n",
        "\n",
        "pd.options.mode.chained_assignment = None  # default='warn'\n",
        "\n",
        "import sys\n",
        "import os\n",
        "import pandas as pd\n",
        "from sklearn.decomposition import PCA\n",
        "\n"
      ],
      "execution_count": 0,
      "outputs": []
    },
    {
      "cell_type": "markdown",
      "metadata": {
        "id": "gwgU58C8aSwX",
        "colab_type": "text"
      },
      "source": [
        "## Section 0: Functions"
      ]
    },
    {
      "cell_type": "code",
      "metadata": {
        "id": "PRgYiYNlaVaL",
        "colab_type": "code",
        "colab": {}
      },
      "source": [
        "\n",
        "\n",
        "def preprocessing(data):\n",
        "  '''\n",
        "  '''\n",
        "\n",
        "  # Extract labels from dataframe\n",
        "  labels = data['label']\n",
        "  # Drop column containing patient labels for imputation\n",
        "  data = data.drop(columns=['label'])\n",
        "\n",
        "  ## Cleaning data from NaN, zero, #DIC/0! errors and inf values\n",
        "  # Replace all zero values with NaN\n",
        "  data.replace(0, np.nan, inplace=True)\n",
        "  # Replace all zero division errors with NaN\n",
        "  data.replace('#DIV/0!', np.nan, inplace=True)\n",
        "  # Replace all inf values with NaN\n",
        "  data.replace(np.inf, np.nan, inplace=True)\n",
        "\n",
        "  # Add labels to dataframe\n",
        "  data['label'] = labels\n",
        "\n",
        "  # Remove column when >5% of values is NaN\n",
        "  data.dropna(axis = 1, thresh=0.95*len(x_set.index), inplace=True)\n",
        "\n",
        "  # Extract labels from dataframe\n",
        "  labels = data['label']\n",
        "  # Drop column containing patient labels for imputation\n",
        "  data = data.drop(columns=['label'])\n",
        "  \n",
        "  return data, labels\n",
        "\n",
        "\n",
        "def train_pca(x_train, x_test, components=4):\n",
        "    '''\n",
        "    The  Principal component analysis (PCA) training function creates\n",
        "    and fits the PCA to transform point data into\n",
        "    based on an amount of prinicipal components.\n",
        "    Returns the transformed point data.\n",
        "\n",
        "    Parameters\n",
        "    ----------\n",
        "\n",
        "    x_train : array-like, shape (n_samples, n_features)\n",
        "        Training data, where n_samples is the number of samples\n",
        "        and n_features is the number of features.\n",
        "\n",
        "    x_test : array-like, shape (n_samples, n_features)\n",
        "        Testing data, where n_samples is the number of samples\n",
        "        and n_features is the number of features.\n",
        "\n",
        "    components : integer\n",
        "        Amount of used principal components.\n",
        "        Default value is 4 principal components\n",
        "\n",
        "    Returns\n",
        "    -------\n",
        "\n",
        "    x_train_trans : array-like, shape (n_samples, n_features)\n",
        "        Transformed training data, where n_samples is the number of samples\n",
        "        and n_features is the number of features.\n",
        "\n",
        "    x_test_trans : array-like, shape (n_samples, n_features)\n",
        "        Transformed test data, where n_samples is the number of samples\n",
        "        and n_features is the number of features.\n",
        "\n",
        "    '''\n",
        "\n",
        "    try:\n",
        "        # Create a PCA which retains an amount of principle components\n",
        "        pca = PCA(n_components=components)\n",
        "\n",
        "        # Fit the PCA model\n",
        "        pca.fit(x_train)\n",
        "\n",
        "        # Transform data\n",
        "        x_train_trans = pca.transform(x_train)\n",
        "        x_test_trans = pca.transform(x_test)\n",
        "\n",
        "        return x_train_trans, x_test_trans\n",
        "    \n",
        "    except ValueError:\n",
        "        print('Not enough subjects per set to fit the requested amount of components in PCA.')\n",
        "        sys.exit()\n",
        "  \n",
        "\n",
        "def pca4_plot(data, labels):\n",
        "    '''\n",
        "    Function to pairplot the results of the principal components analysis by creating\n",
        "    a dataframe of the the data and labels. The plot is saved in the directory\n",
        "\n",
        "    Parameters\n",
        "    ----------\n",
        "    data : array-like, shape (n_samples, n_features)\n",
        "        Training data, where n_samples is the number of samples\n",
        "        and n_features is the number of features.\n",
        "\n",
        "    labels : array, shape = [n_samples]\n",
        "        Corresponding labels for data\n",
        "\n",
        "    '''\n",
        "\n",
        "    dataframe = pd.DataFrame(data)\n",
        "    print(labels)\n",
        "    dataframe['label'] = labels\n",
        "\n",
        "    print(dataframe.head())\n",
        "\n",
        "    # Plotting the pairplot\n",
        "    pair_plot = sns.pairplot(dataframe, hue='label')\n",
        "\n"
      ],
      "execution_count": 0,
      "outputs": []
    },
    {
      "cell_type": "markdown",
      "metadata": {
        "id": "FXmtU-niSdDM",
        "colab_type": "text"
      },
      "source": [
        "## Section 1: Data loading\n",
        "\n",
        "In this section the data is loaded, splitted and preprocessed.\n",
        "\n",
        "The data is splitted into a train and test set. This is done using train_test_split from sklearn.model_selection. The test data contains 45% of the data. "
      ]
    },
    {
      "cell_type": "code",
      "metadata": {
        "colab_type": "code",
        "id": "-NE_fTbKGe5z",
        "outputId": "aa17d011-682e-4541-e747-1c55f8c9fda7",
        "colab": {
          "base_uri": "https://localhost:8080/",
          "height": 51
        }
      },
      "source": [
        "## Load Data\n",
        "\n",
        "from brats.load_data import load_data\n",
        "data = load_data()\n",
        "\n",
        "print(f'The number of samples: {len(data.index)}')\n",
        "print(f'The number of columns: {len(data.columns)}')\n"
      ],
      "execution_count": 45,
      "outputs": [
        {
          "output_type": "stream",
          "text": [
            "The number of samples: 167\n",
            "The number of columns: 725\n"
          ],
          "name": "stdout"
        }
      ]
    },
    {
      "cell_type": "markdown",
      "metadata": {
        "id": "TPZuFS8Kq8Ln",
        "colab_type": "text"
      },
      "source": [
        "## Section 2: Preprocessing and Splitting\n",
        "\n",
        "In this section ... "
      ]
    },
    {
      "cell_type": "code",
      "metadata": {
        "id": "YCqPK6jqrAVi",
        "colab_type": "code",
        "outputId": "c8ee2e2c-ec0a-42a1-ec96-b1338a0c8135",
        "colab": {
          "base_uri": "https://localhost:8080/",
          "height": 85
        }
      },
      "source": [
        "# Clean data for NaN, zero, #DIC/0! errors and inf values\n",
        "data, labels = preprocessing(data)\n",
        "\n",
        "# Split data into train and test set\n",
        "x_train, x_test, y_train, y_test = train_test_split(data, labels, test_size = 0.45)\n",
        "\n",
        "# Impute for NaN values\n",
        "imputor = KNNImputer(n_neighbors=5, weights='distance')\n",
        "# this will look for all columns where we have NaN value and replace the NaN value with specified test statistic\n",
        "data_imp_train = x_train\n",
        "data_imp_test = x_test\n",
        "# Fit imputor on training set and apply to all sets\n",
        "array_imp_train = imputor.fit_transform(data_imp_train)\n",
        "array_imp_test = imputor.transform(data_imp_test)\n",
        "data_imp_train[:] = array_imp_train\n",
        "data_imp_test[:] = array_imp_test\n",
        "\n",
        "print(f'The number of samples in train set imp: {len(data_imp_train.index)}')\n",
        "print(f'The number of samples in test set imp: {len(data_imp_test.index)}')\n",
        "print(f'The number of columns in train set imp: {len(data_imp_train.columns)}')\n",
        "print(f'The number of columns in test set imp: {len(data_imp_test.columns)}')\n",
        "\n",
        "## Scaler\n",
        "scaler = sklearn.preprocessing.StandardScaler().fit(x_train)\n",
        "x_train_transformed = scaler.transform(x_train)\n",
        "x_test_transformed = scaler.transform(x_test)\n"
      ],
      "execution_count": 46,
      "outputs": [
        {
          "output_type": "stream",
          "text": [
            "The number of samples in train set imp: 91\n",
            "The number of samples in test set imp: 76\n",
            "The number of columns in train set imp: 700\n",
            "The number of columns in test set imp: 700\n"
          ],
          "name": "stdout"
        }
      ]
    },
    {
      "cell_type": "markdown",
      "metadata": {
        "id": "RxndbAR-bJmc",
        "colab_type": "text"
      },
      "source": [
        "## Section 3: Feature Extraction\n",
        "\n",
        "Features are extracted from the train set with  ... "
      ]
    },
    {
      "cell_type": "code",
      "metadata": {
        "id": "HvW3Zbf7bRJj",
        "colab_type": "code",
        "colab": {}
      },
      "source": [
        "# Feature extraction\n",
        "x_train_trans, x_test_trans = train_pca(x_train_transformed, x_train_transformed, components=4)\n",
        "\n",
        "print(f'Size of x_train after pca: {x_train_trans.shape}')\n",
        "print(f'Size of x_test after pca: {x_test_trans.shape}')\n",
        "\n",
        "pca4_plot(x_train_trans, y_train)\n"
      ],
      "execution_count": 0,
      "outputs": []
    },
    {
      "cell_type": "markdown",
      "metadata": {
        "id": "NmG6TGxFSEZy",
        "colab_type": "text"
      },
      "source": [
        "## Section 4: Training Classifiers\n",
        "\n",
        "In this section ... are trained on the train set using sklearn. "
      ]
    },
    {
      "cell_type": "code",
      "metadata": {
        "id": "u9DxKguHSMQI",
        "colab_type": "code",
        "colab": {}
      },
      "source": [
        "# Classifiers\n",
        "\n",
        "# Cross-Validation"
      ],
      "execution_count": 0,
      "outputs": []
    },
    {
      "cell_type": "markdown",
      "metadata": {
        "id": "Q4ek-TlubWEw",
        "colab_type": "text"
      },
      "source": [
        "## Section 5: Performance Evaluation\n",
        "\n",
        "Testing classifiers on test set. The following evaluation measures are evaluated:\n",
        "\n",
        "\n",
        "*   Accuracy\n",
        "*   F1-Score\n",
        "*  AUC\n",
        "\n"
      ]
    },
    {
      "cell_type": "code",
      "metadata": {
        "id": "vAlJTBSgbnKu",
        "colab_type": "code",
        "colab": {}
      },
      "source": [
        "# Metrics "
      ],
      "execution_count": 0,
      "outputs": []
    }
  ]
}