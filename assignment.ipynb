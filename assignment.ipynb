{
  "nbformat": 4,
  "nbformat_minor": 0,
  "metadata": {
    "colab": {
      "name": "assignment.ipynb",
      "provenance": [],
      "collapsed_sections": [],
      "toc_visible": true,
      "include_colab_link": true
    },
    "kernelspec": {
      "display_name": "Python 3",
      "language": "python",
      "name": "python3"
    },
    "language_info": {
      "codemirror_mode": {
        "name": "ipython",
        "version": 3
      },
      "file_extension": ".py",
      "mimetype": "text/x-python",
      "name": "python",
      "nbconvert_exporter": "python",
      "pygments_lexer": "ipython3",
      "version": "3.7.4"
    }
  },
  "cells": [
    {
      "cell_type": "markdown",
      "metadata": {
        "id": "view-in-github",
        "colab_type": "text"
      },
      "source": [
        "<a href=\"https://colab.research.google.com/github/i-moes/TM10007_PROJECT/blob/master/assignment.ipynb\" target=\"_parent\"><img src=\"https://colab.research.google.com/assets/colab-badge.svg\" alt=\"Open In Colab\"/></a>"
      ]
    },
    {
      "cell_type": "markdown",
      "metadata": {
        "colab_type": "text",
        "id": "7SXpaKwwGe5x"
      },
      "source": [
        "# TM10007 Assignment Group 7\n",
        "\n",
        "---\n",
        "\n"
      ]
    },
    {
      "cell_type": "code",
      "metadata": {
        "colab_type": "code",
        "id": "CiDn2Sk-VWqE",
        "colab": {}
      },
      "source": [
        "# Run this to use from colab environment\n",
        "!pip install -q --upgrade git+https://github.com/i-moes/TM10007_PROJECT.git\n",
        "\n",
        "# Install packages\n",
        "!pip install sklearn numpy matplotlib"
      ],
      "execution_count": 0,
      "outputs": []
    },
    {
      "cell_type": "code",
      "metadata": {
        "id": "qUekQv8AUkCT",
        "colab_type": "code",
        "colab": {}
      },
      "source": [
        "# # General packages\n",
        "import numpy as np \n",
        "import matplotlib.pyplot as plt\n",
        "from sklearn import datasets as ds\n",
        "from sklearn import metrics\n",
        "from sklearn.model_selection import train_test_split\n",
        "from sklearn.impute import KNNImputer\n",
        " \n",
        "# Metrics\n",
        "#from sklearn.metrics import confusion_matrix\n",
        "#from sklearn.metrics import mean_absolute_error\n",
        "# from sklearn.metrics import r2_score\n",
        "\n",
        "# Classifiers\n",
        "from sklearn.naive_bayes import GaussianNB\n",
        "from sklearn.discriminant_analysis import LinearDiscriminantAnalysis\n",
        "from sklearn.discriminant_analysis import QuadraticDiscriminantAnalysis\n",
        "from sklearn.linear_model import LogisticRegression\n",
        "from sklearn.linear_model import SGDClassifier\n",
        "from sklearn.tree import DecisionTreeClassifier\n",
        "from sklearn.neighbors import KNeighborsClassifier\n",
        "\n",
        "pd.options.mode.chained_assignment = None  # default='warn'"
      ],
      "execution_count": 0,
      "outputs": []
    },
    {
      "cell_type": "markdown",
      "metadata": {
        "id": "FXmtU-niSdDM",
        "colab_type": "text"
      },
      "source": [
        "## Section 1: Data loading and Splitting\n",
        "\n",
        "\n",
        "In this section the data is loaded, splitted and preprocessed.\n",
        "\n",
        "The data is splitted into a train and test set. This is done using train_test_split from sklearn.model_selection. The test data contains 45% of the data. "
      ]
    },
    {
      "cell_type": "code",
      "metadata": {
        "colab_type": "code",
        "id": "-NE_fTbKGe5z",
        "outputId": "791e09bd-d762-4b8e-acfe-947de5750918",
        "colab": {
          "base_uri": "https://localhost:8080/",
          "height": 102
        }
      },
      "source": [
        "## Load Data\n",
        "\n",
        "from brats.load_data import load_data\n",
        "data = load_data()\n",
        "\n",
        "print(f'The number of samples: {len(data.index)}')\n",
        "print(f'The number of columns: {len(data.columns)}')\n",
        "\n",
        "## Split Data\n",
        "\n",
        "# Extract labels from dataframe\n",
        "labels = data['label']\n",
        "# Drop column containing patient labels for imputation\n",
        "data = data.drop(columns=['label'])\n",
        "\n",
        "# Split data into train and test set\n",
        "x_train, x_test, y_train, y_test = train_test_split(data, labels, test_size = 0.45)\n",
        "print(f'length of x_train: {len(x_train.index)}')\n",
        "print(f'length of x_test: {len(x_test.index)}')\n",
        "print(f'total is: {len(x_train.index) + len(x_test.index)}')\n"
      ],
      "execution_count": 85,
      "outputs": [
        {
          "output_type": "stream",
          "text": [
            "The number of samples: 167\n",
            "The number of columns: 725\n",
            "length of x_train: 91\n",
            "length of x_test: 76\n",
            "total is: 167\n"
          ],
          "name": "stdout"
        }
      ]
    },
    {
      "cell_type": "markdown",
      "metadata": {
        "id": "TPZuFS8Kq8Ln",
        "colab_type": "text"
      },
      "source": [
        "## Section 2: Preprocessing\n",
        "\n",
        "In this section ... "
      ]
    },
    {
      "cell_type": "code",
      "metadata": {
        "id": "YCqPK6jqrAVi",
        "colab_type": "code",
        "colab": {
          "base_uri": "https://localhost:8080/",
          "height": 153
        },
        "outputId": "1b5620a3-9e02-4bab-da65-d1a05cb81a7d"
      },
      "source": [
        "# Cleaning data from NaN, zero, #DIC/0! errors and inf values\n",
        "for x_set in [x_train, x_test]:\n",
        "  # Replace all zero values with NaN\n",
        "  x_set.replace(0, np.nan, inplace=True)\n",
        "  # Replace all zero division errors with NaN\n",
        "  x_set.replace('#DIV/0!', np.nan, inplace=True)\n",
        "  # Replace all inf values with NaN\n",
        "  x_set.replace(np.inf, np.nan, inplace=True)\n",
        "  # Remove column when >5% of values is NaN\n",
        "  x_set.dropna(axis = 1, thresh=0.95*len(x_set.index), inplace=True)\n",
        "\n",
        "print(f'The number of samples in train set: {len(x_train.index)}')\n",
        "print(f'The number of samples in test set: {len(x_test.index)}')\n",
        "print(f'The number of columns in train set: {len(x_train.columns)}')\n",
        "print(f'The number of columns in test set: {len(x_test.columns)}')\n",
        "\n",
        "# Impute for NaN values\n",
        "data_imp_train = x_train\n",
        "data_imp_test = x_test\n",
        "imputor = KNNImputer(n_neighbors=5, weights='distance')\n",
        "# this will look for all columns where we have NaN value and replace the NaN value with specified test statistic\n",
        "\n",
        "array_imp_train = imputor.fit_transform(data_imp_train)\n",
        "array_imp_test = imputor.fit_transform(data_imp_test)\n",
        "data_imp_train[:] = array_imp_train\n",
        "data_imp_test[:] = array_imp_test\n",
        "\n",
        "print(f'The number of samples in train set imp: {len(data_imp_train.index)}')\n",
        "print(f'The number of samples in test set imp: {len(data_imp_test.index)}')\n",
        "print(f'The number of columns in train set imp: {len(data_imp_train.columns)}')\n",
        "print(f'The number of columns in test set imp: {len(data_imp_test.columns)}')\n"
      ],
      "execution_count": 86,
      "outputs": [
        {
          "output_type": "stream",
          "text": [
            "The number of samples in train set: 91\n",
            "The number of samples in test set: 76\n",
            "The number of columns in train set: 458\n",
            "The number of columns in test set: 452\n",
            "The number of samples in train set imp: 91\n",
            "The number of samples in test set imp: 76\n",
            "The number of columns in train set imp: 458\n",
            "The number of columns in test set imp: 452\n"
          ],
          "name": "stdout"
        }
      ]
    },
    {
      "cell_type": "markdown",
      "metadata": {
        "id": "RxndbAR-bJmc",
        "colab_type": "text"
      },
      "source": [
        "## Section 3: Feature Extraction\n",
        "\n",
        "Features are extracted from the train set with  ... "
      ]
    },
    {
      "cell_type": "code",
      "metadata": {
        "id": "HvW3Zbf7bRJj",
        "colab_type": "code",
        "colab": {}
      },
      "source": [
        "# Feature extraction\n",
        "import sys\n",
        "import os\n",
        "import seaborn as sns\n",
        "import pandas as pd\n",
        "from sklearn.decomposition import PCA\n",
        "\n",
        "def train_pca(point_data_train, point_data_test, components=4):\n",
        "    '''\n",
        "    The  Principal component analysis (PCA) training function creates\n",
        "    and fits the PCA to transform point data into\n",
        "    based on an amount of prinicipal components.\n",
        "    Returns the transformed point data.\n",
        "\n",
        "    Parameters\n",
        "    ----------\n",
        "\n",
        "    point_data_train : array-like, shape (n_samples, n_features)\n",
        "        Training data, where n_samples is the number of samples\n",
        "        and n_features is the number of features.\n",
        "\n",
        "    point_data_test : array-like, shape (n_samples, n_features)\n",
        "        Testing data, where n_samples is the number of samples\n",
        "        and n_features is the number of features.\n",
        "\n",
        "    components : integer\n",
        "        Amount of used principal components.\n",
        "        Default value is 4 principal components\n",
        "\n",
        "    Returns\n",
        "    -------\n",
        "\n",
        "    point_data_train_trans : array-like, shape (n_samples, n_features)\n",
        "        Transformed training data, where n_samples is the number of samples\n",
        "        and n_features is the number of features.\n",
        "\n",
        "    point_data_test_trans : array-like, shape (n_samples, n_features)\n",
        "        Transformed test data, where n_samples is the number of samples\n",
        "        and n_features is the number of features.\n",
        "\n",
        "    '''\n",
        "\n",
        "    try:\n",
        "        # Create a PCA which retains an amount of principle components\n",
        "        pca = PCA(n_components=components)\n",
        "\n",
        "        # Fit the PCA model\n",
        "        pca.fit(point_data_train)\n",
        "\n",
        "        # Transform data\n",
        "        point_data_train_trans = pca.transform(point_data_train)\n",
        "        point_data_test_trans = pca.transform(point_data_test)\n",
        "\n",
        "        return point_data_train_trans, point_data_test_trans\n",
        "    \n",
        "    except ValueError:\n",
        "        print('Not enough subjects per set to fit the requested amount of components in PCA.')\n",
        "        sys.exit()\n",
        "\n",
        "#x_train_trans, x_test_trans = train_pca(data_imp_train, data_imp_test, components=4)\n",
        "\n",
        "#PCA\n",
        "pca = PCA(n_components=4)\n",
        "pca.fit(data_imp_train)\n",
        "data_train_trans = pca.transform(data_imp_train)\n",
        "#data_test_trans = pca.transform(data_imp_test)\n",
        "\n",
        "print(f' length of x_train after pca (index): {len(x_train_trans)}')\n",
        "print(data_train_trans)\n",
        "#print(f' length of x_test after pca (index): {len(x_test_trans)}')\n",
        "\n"
      ],
      "execution_count": 0,
      "outputs": []
    },
    {
      "cell_type": "markdown",
      "metadata": {
        "id": "NmG6TGxFSEZy",
        "colab_type": "text"
      },
      "source": [
        "## Section 4: Training Classifiers\n",
        "\n",
        "In this section ... are trained on the train set using sklearn. "
      ]
    },
    {
      "cell_type": "code",
      "metadata": {
        "id": "u9DxKguHSMQI",
        "colab_type": "code",
        "colab": {}
      },
      "source": [
        "# Classifiers"
      ],
      "execution_count": 0,
      "outputs": []
    },
    {
      "cell_type": "markdown",
      "metadata": {
        "id": "Q4ek-TlubWEw",
        "colab_type": "text"
      },
      "source": [
        "## Section 5: Performance Evaluation\n",
        "\n",
        "Testing classifiers on test set. The following evaluation measures are evaluated:\n",
        "\n",
        "\n",
        "*   Accuracy\n",
        "*   F1-Score\n",
        "*  AUC\n",
        "\n"
      ]
    },
    {
      "cell_type": "code",
      "metadata": {
        "id": "vAlJTBSgbnKu",
        "colab_type": "code",
        "colab": {}
      },
      "source": [
        "# Metrics "
      ],
      "execution_count": 0,
      "outputs": []
    }
  ]
}