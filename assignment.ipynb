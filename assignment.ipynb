{
  "nbformat": 4,
  "nbformat_minor": 0,
  "metadata": {
    "colab": {
      "name": "assignment.ipynb",
      "provenance": [],
      "collapsed_sections": [],
      "toc_visible": true,
      "include_colab_link": true
    },
    "kernelspec": {
      "display_name": "Python 3",
      "language": "python",
      "name": "python3"
    },
    "language_info": {
      "codemirror_mode": {
        "name": "ipython",
        "version": 3
      },
      "file_extension": ".py",
      "mimetype": "text/x-python",
      "name": "python",
      "nbconvert_exporter": "python",
      "pygments_lexer": "ipython3",
      "version": "3.7.4"
    }
  },
  "cells": [
    {
      "cell_type": "markdown",
      "metadata": {
        "id": "view-in-github",
        "colab_type": "text"
      },
      "source": [
        "<a href=\"https://colab.research.google.com/github/i-moes/TM10007_PROJECT/blob/master/assignment.ipynb\" target=\"_parent\"><img src=\"https://colab.research.google.com/assets/colab-badge.svg\" alt=\"Open In Colab\"/></a>"
      ]
    },
    {
      "cell_type": "markdown",
      "metadata": {
        "colab_type": "text",
        "id": "7SXpaKwwGe5x"
      },
      "source": [
        "# TM10007 Assignment Group 7\n",
        "\n",
        "---\n",
        "\n"
      ]
    },
    {
      "cell_type": "code",
      "metadata": {
        "colab_type": "code",
        "id": "CiDn2Sk-VWqE",
        "colab": {}
      },
      "source": [
        "# Run this to use from colab environment\n",
        "!pip install -q --upgrade git+https://github.com/i-moes/TM10007_PROJECT.git\n",
        "\n",
        "# Install packages\n",
        "!pip install sklearn numpy matplotlib"
      ],
      "execution_count": 0,
      "outputs": []
    },
    {
      "cell_type": "code",
      "metadata": {
        "id": "qUekQv8AUkCT",
        "colab_type": "code",
        "colab": {}
      },
      "source": [
        "# # General packages\n",
        "import numpy as np \n",
        "import matplotlib.pyplot as plt\n",
        "from sklearn import datasets as ds\n",
        "from sklearn import metrics\n",
        "from sklearn.model_selection import train_test_split\n",
        "from sklearn.impute import KNNImputer\n",
        " \n",
        "# Metrics\n",
        "#from sklearn.metrics import confusion_matrix\n",
        "#from sklearn.metrics import mean_absolute_error\n",
        "# from sklearn.metrics import r2_score\n",
        "\n",
        "# Classifiers\n",
        "from sklearn.naive_bayes import GaussianNB\n",
        "from sklearn.discriminant_analysis import LinearDiscriminantAnalysis\n",
        "from sklearn.discriminant_analysis import QuadraticDiscriminantAnalysis\n",
        "from sklearn.linear_model import LogisticRegression\n",
        "from sklearn.linear_model import SGDClassifier\n",
        "from sklearn.tree import DecisionTreeClassifier\n",
        "from sklearn.neighbors import KNeighborsClassifier"
      ],
      "execution_count": 0,
      "outputs": []
    },
    {
      "cell_type": "markdown",
      "metadata": {
        "id": "FXmtU-niSdDM",
        "colab_type": "text"
      },
      "source": [
        "## Section 1: Data loading and cleaning\n",
        "\n",
        "In this section the data is loaded and preprocessed."
      ]
    },
    {
      "cell_type": "code",
      "metadata": {
        "colab_type": "code",
        "id": "-NE_fTbKGe5z",
        "colab": {}
      },
      "source": [
        "## Load Data\n",
        "\n",
        "from brats.load_data import load_data\n",
        "data = load_data()\n",
        "\n",
        "print(f'The number of samples: {len(data.index)}')\n",
        "print(f'The number of columns: {len(data.columns)}')\n",
        "\n",
        "\n",
        "## Clean Data\n",
        "\n",
        "# Replace all zero values with NaN\n",
        "data.replace(0, np.nan, inplace=True)\n",
        "# Replace all zero division errors with NaN\n",
        "data.replace('#DIV/0!', np.nan, inplace=True)\n",
        "# Replace all inf values with NaN\n",
        "data.replace(np.inf, np.nan, inplace=True)\n",
        "\n",
        "# Remove column when >5% of values is NaN\n",
        "data.dropna(axis = 1, thresh=0.95*len(data.index), inplace=True)\n",
        "\n",
        "print(f'The number of samples: {len(data.index)}')\n",
        "print(f'The number of columns: {len(data.columns)}')\n",
        "\n",
        "# Extract labels from dataframe\n",
        "labels = data['label']\n",
        "# Drop column containing patient labels for imputation\n",
        "data_imp = data.drop(columns=['label'])\n",
        "\n",
        "# Impute for NaN values\n",
        "imputor = KNNImputer(n_neighbors=5, weights='uniform')\n",
        "# this will look for all columns where we have NaN value and replace the NaN value with specified test statistic\n",
        "array_imp = imputor.fit_transform(data_imp)\n",
        "data_imp[:] = array_imp\n",
        "\n",
        "print(f'The number of samples: {len(data_imp.index)}')\n",
        "print(f'The number of columns: {len(data_imp.columns)}')\n"
      ],
      "execution_count": 0,
      "outputs": []
    },
    {
      "cell_type": "markdown",
      "metadata": {
        "id": "sK1rZhOzTyLP",
        "colab_type": "text"
      },
      "source": [
        "## Section 2: Splitting Data in Train and Test Set\n",
        "\n",
        "The data is splitted into a train and test set. This is done using train_test_split from sklearn.model_selection. The test data contains 45% of the data. "
      ]
    },
    {
      "cell_type": "code",
      "metadata": {
        "id": "ogGZ7PZwUE2q",
        "colab_type": "code",
        "colab": {
          "base_uri": "https://localhost:8080/",
          "height": 289
        },
        "outputId": "4a1383ed-e86f-47f1-ca31-92aaf66c1537"
      },
      "source": [
        "# splitting data in train and test set \n",
        "x_train, x_test, y_train, y_test = train_test_split(data_imp, labels, test_size = 0.45)\n",
        "print(x_train.head())\n",
        "print(y_train.head())"
      ],
      "execution_count": 6,
      "outputs": [
        {
          "output_type": "stream",
          "text": [
            "              VOLUME_NET  VOLUME_ED  ...  TGM_Cog_Z_1   TGM_T_1\n",
            "ID                                   ...                       \n",
            "TCGA-HT-7884     32725.0    20904.0  ...     0.063533  128.4680\n",
            "TCGA-DU-6542     18873.0    39845.0  ...     0.067363  229.4810\n",
            "TCGA-12-0616      7774.0    21238.0  ...     0.061374  279.1780\n",
            "TCGA-76-6656      9087.0    88963.0  ...     0.120478  240.2820\n",
            "TCGA-CS-5396     93298.0     7407.0  ...     0.087105   41.9047\n",
            "\n",
            "[5 rows x 456 columns]\n",
            "ID\n",
            "TCGA-HT-7884    LGG\n",
            "TCGA-DU-6542    LGG\n",
            "TCGA-12-0616    GBM\n",
            "TCGA-76-6656    GBM\n",
            "TCGA-CS-5396    LGG\n",
            "Name: label, dtype: object\n"
          ],
          "name": "stdout"
        }
      ]
    },
    {
      "cell_type": "markdown",
      "metadata": {
        "id": "RxndbAR-bJmc",
        "colab_type": "text"
      },
      "source": [
        "## Section 3: Feature Extraction\n",
        "\n",
        "Features are extracted from the train set with  ... "
      ]
    },
    {
      "cell_type": "code",
      "metadata": {
        "id": "HvW3Zbf7bRJj",
        "colab_type": "code",
        "colab": {}
      },
      "source": [
        "# Feature extraction"
      ],
      "execution_count": 0,
      "outputs": []
    },
    {
      "cell_type": "markdown",
      "metadata": {
        "id": "NmG6TGxFSEZy",
        "colab_type": "text"
      },
      "source": [
        "## Section 4: Training Classifiers\n",
        "\n",
        "In this section ... are trained on the train set using sklearn. "
      ]
    },
    {
      "cell_type": "code",
      "metadata": {
        "id": "u9DxKguHSMQI",
        "colab_type": "code",
        "colab": {}
      },
      "source": [
        "# Classifiers"
      ],
      "execution_count": 0,
      "outputs": []
    },
    {
      "cell_type": "markdown",
      "metadata": {
        "id": "Q4ek-TlubWEw",
        "colab_type": "text"
      },
      "source": [
        "## Section 5: Performance Evaluation\n",
        "\n",
        "Testing classifiers on test set. The following evaluation measures are evaluated:\n",
        "\n",
        "\n",
        "*   Accuracy\n",
        "*   F1-Score\n",
        "*  AUC\n",
        "\n"
      ]
    },
    {
      "cell_type": "code",
      "metadata": {
        "id": "vAlJTBSgbnKu",
        "colab_type": "code",
        "colab": {}
      },
      "source": [
        "# Metrics "
      ],
      "execution_count": 0,
      "outputs": []
    }
  ]
}